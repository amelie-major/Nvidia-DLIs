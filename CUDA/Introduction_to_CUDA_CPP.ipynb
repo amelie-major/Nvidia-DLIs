{
 "cells": [
  {
   "cell_type": "code",
   "execution_count": null,
   "id": "654a111a",
   "metadata": {},
   "outputs": [],
   "source": [
    "print(\"Hello, World!\")"
   ]
  },
  {
   "cell_type": "markdown",
   "id": "c7a8f4d9",
   "metadata": {},
   "source": [
    "Hello"
   ]
  }
 ],
 "metadata": {
  "kernelspec": {
   "display_name": ".venv",
   "language": "python",
   "name": "python3"
  },
  "language_info": {
   "name": "python",
   "version": "3.8.2"
  }
 },
 "nbformat": 4,
 "nbformat_minor": 5
}
